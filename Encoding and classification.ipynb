{
 "cells": [
  {
   "cell_type": "code",
   "execution_count": 3,
   "metadata": {},
   "outputs": [],
   "source": [
    "import numpy as np\n",
    "import cv2\n",
    "import pandas as pd\n",
    "import matplotlib.pyplot as plt\n",
    "import scipy.ndimage as ndimage\n",
    "from sklearn import preprocessing\n",
    "import os\n",
    "import seaborn as sns\n",
    "from skimage.feature import hog\n",
    "from scipy.cluster.vq import kmeans,vq"
   ]
  },
  {
   "cell_type": "markdown",
   "metadata": {},
   "source": [
    "### Separating files for training and testing"
   ]
  },
  {
   "cell_type": "code",
   "execution_count": 4,
   "metadata": {},
   "outputs": [],
   "source": [
    "feature_files_path=\"./features/\"\n",
    "files=[os.path.join(feature_files_path,file) for file in os.listdir(feature_files_path)]"
   ]
  },
  {
   "cell_type": "code",
   "execution_count": 5,
   "metadata": {},
   "outputs": [],
   "source": [
    "training_files = [\"-nm-01-\",\"-nm-02-\",\"-nm-03-\",\"-nm-04-\"]\n",
    "training_set_files = [file for file in files if any(training_file in file for training_file in training_files)]"
   ]
  },
  {
   "cell_type": "code",
   "execution_count": 6,
   "metadata": {},
   "outputs": [],
   "source": [
    "test_1_files = [\"-nm-05-\",\"-nm-06-\"]\n",
    "test_set_1_files = [file for file in files if any(training_file in file for training_file in test_1_files)]"
   ]
  },
  {
   "cell_type": "code",
   "execution_count": 7,
   "metadata": {},
   "outputs": [],
   "source": [
    "test_2_files = [\"-bg-01-\",\"-bg-02-\"]\n",
    "test_set_2_files = [file for file in files if any(training_file in file for training_file in test_2_files)]"
   ]
  },
  {
   "cell_type": "code",
   "execution_count": 8,
   "metadata": {},
   "outputs": [],
   "source": [
    "test_3_files = [\"-cl-01-\",\"-cl-02-\"]\n",
    "test_set_3_files = [file for file in files if any(training_file in file for training_file in test_3_files)]"
   ]
  },
  {
   "cell_type": "markdown",
   "metadata": {},
   "source": [
    "## Encoding for training data"
   ]
  },
  {
   "cell_type": "code",
   "execution_count": 9,
   "metadata": {},
   "outputs": [],
   "source": [
    "hog_codebook = pd.read_csv('hog_codebook.csv')\n",
    "mbhx_codebook = pd.read_csv('mbhx_codebook.csv')\n",
    "mbhy_codebook = pd.read_csv('mbhy_codebook.csv')"
   ]
  },
  {
   "cell_type": "code",
   "execution_count": null,
   "metadata": {},
   "outputs": [],
   "source": []
  }
 ],
 "metadata": {
  "kernelspec": {
   "display_name": "Python 3",
   "language": "python",
   "name": "python3"
  },
  "language_info": {
   "codemirror_mode": {
    "name": "ipython",
    "version": 3
   },
   "file_extension": ".py",
   "mimetype": "text/x-python",
   "name": "python",
   "nbconvert_exporter": "python",
   "pygments_lexer": "ipython3",
   "version": "3.8.3"
  }
 },
 "nbformat": 4,
 "nbformat_minor": 4
}
