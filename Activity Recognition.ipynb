{
 "cells": [
  {
   "cell_type": "code",
   "execution_count": 15,
   "metadata": {},
   "outputs": [],
   "source": [
    "import numpy as np\n",
    "import cv2\n",
    "import pandas as pd\n",
    "import matplotlib.pyplot as plt\n",
    "import scipy.ndimage as ndimage\n",
    "from sklearn import preprocessing\n",
    "import os\n",
    "import seaborn as sns\n",
    "from skimage.feature import hog\n",
    "from scipy.cluster.vq import kmeans,vq"
   ]
  },
  {
   "cell_type": "markdown",
   "metadata": {},
   "source": [
    "- Trajectory:    2x[trajectory length] (default 30 dimension)\n",
    "- HOG:           8x[spatial cells]x[spatial cells]x[temporal cells] (default 96 dimension)\n",
    "- HOF:           9x[spatial cells]x[spatial cells]x[temporal cells] (default 108 dimension)\n",
    "- MBHx:          8x[spatial cells]x[spatial cells]x[temporal cells] (default 96 dimension)\n",
    "- MBHy:          8x[spatial cells]x[spatial cells]x[temporal cells] (default 96 dimension)"
   ]
  },
  {
   "cell_type": "code",
   "execution_count": 2,
   "metadata": {},
   "outputs": [],
   "source": [
    "trajectory_range = 40\n",
    "hog_range = trajectory_range+96\n",
    "hof_range = hog_range+108\n",
    "mbhx_range = hof_range+96\n",
    "mbhy_range = mbhx_range+96"
   ]
  },
  {
   "cell_type": "markdown",
   "metadata": {},
   "source": [
    "### Separating files for training and testing"
   ]
  },
  {
   "cell_type": "code",
   "execution_count": 3,
   "metadata": {},
   "outputs": [],
   "source": [
    "feature_files_path=\"./features/\"\n",
    "files=[os.path.join(feature_files_path,file) for file in os.listdir(feature_files_path)]"
   ]
  },
  {
   "cell_type": "code",
   "execution_count": 4,
   "metadata": {},
   "outputs": [],
   "source": [
    "training_files = [\"-nm-01-\",\"-nm-02-\",\"-nm-03-\",\"-nm-04-\"]\n",
    "training_set_files = [file for file in files if any(training_file in file for training_file in training_files)]"
   ]
  },
  {
   "cell_type": "code",
   "execution_count": 5,
   "metadata": {},
   "outputs": [],
   "source": [
    "test_1_files = [\"-nm-05-\",\"-nm-06-\"]\n",
    "test_set_1_files = [file for file in files if any(training_file in file for training_file in test_1_files)]"
   ]
  },
  {
   "cell_type": "code",
   "execution_count": 6,
   "metadata": {},
   "outputs": [],
   "source": [
    "test_2_files = [\"-bg-01-\",\"-bg-02-\"]\n",
    "test_set_2_files = [file for file in files if any(training_file in file for training_file in test_2_files)]"
   ]
  },
  {
   "cell_type": "code",
   "execution_count": 7,
   "metadata": {},
   "outputs": [],
   "source": [
    "test_3_files = [\"-cl-01-\",\"-cl-02-\"]\n",
    "test_set_3_files = [file for file in files if any(training_file in file for training_file in test_3_files)]"
   ]
  },
  {
   "cell_type": "markdown",
   "metadata": {},
   "source": [
    "## Codebook for training data"
   ]
  },
  {
   "cell_type": "code",
   "execution_count": 8,
   "metadata": {},
   "outputs": [],
   "source": [
    "#hog = []\n",
    "#mbhx = []\n",
    "#mbhy = []\n",
    "#for file in training_set_files:\n",
    "    \n",
    "    #features = pd.read_csv(file,'\\t',header=None)\n",
    "    #features.drop(features.columns[-1],axis=1,inplace=True)\n",
    "    \n",
    "    #hog.append(features.iloc[:,trajectory_range:hog_range])\n",
    "    #mbhx.append(features.iloc[:,hof_range:mbhx_range])\n",
    "    #mbhy.append(features.iloc[:,mbhx_range:mbhy_range])"
   ]
  },
  {
   "cell_type": "code",
   "execution_count": 9,
   "metadata": {},
   "outputs": [
    {
     "name": "stdout",
     "output_type": "stream",
     "text": [
      "496\n",
      "496\n",
      "496\n"
     ]
    }
   ],
   "source": [
    "#print(len(hog))\n",
    "#print(len(mbhx))\n",
    "#print(len(mbhy))"
   ]
  },
  {
   "cell_type": "code",
   "execution_count": 10,
   "metadata": {},
   "outputs": [],
   "source": [
    "#hog_df = pd.DataFrame()\n",
    "#mbhx_df = pd.DataFrame()\n",
    "#mbhy_df = pd.DataFrame()\n",
    "\n",
    "#for i in range(len(hog)):    \n",
    "#    hog_df = hog_df.append(hog[i])\n",
    "    \n",
    "#for i in range(len(mbhx)):    \n",
    "#    mbhx_df = mbhx_df.append(mbhx[i])\n",
    "    \n",
    "#for i in range(len(mbhy)):    \n",
    "#    mbhy_df = mbhy_df.append(mbhy[i])"
   ]
  },
  {
   "cell_type": "code",
   "execution_count": 15,
   "metadata": {},
   "outputs": [
    {
     "name": "stdout",
     "output_type": "stream",
     "text": [
      "(2969163, 96)\n",
      "(2969163, 96)\n",
      "(2969163, 96)\n"
     ]
    }
   ],
   "source": [
    "#print(hog_df.shape)\n",
    "#print(mbhx_df.shape)\n",
    "#print(mbhy_df.shape)"
   ]
  },
  {
   "cell_type": "code",
   "execution_count": 16,
   "metadata": {},
   "outputs": [],
   "source": [
    "#hog_df.to_csv('hog_features_training.csv')\n",
    "#mbhx_df.to_csv('mbhx_features_training.csv')\n",
    "#mbhy_df.to_csv('mbhy_features_training.csv')"
   ]
  },
  {
   "cell_type": "markdown",
   "metadata": {},
   "source": [
    "## HOG Codebook"
   ]
  },
  {
   "cell_type": "code",
   "execution_count": 40,
   "metadata": {},
   "outputs": [],
   "source": [
    "hog = pd.read_csv('hog_features_training.csv')\n",
    "hog = hog.drop(hog.columns[0],axis=1)"
   ]
  },
  {
   "cell_type": "code",
   "execution_count": 41,
   "metadata": {},
   "outputs": [
    {
     "name": "stdout",
     "output_type": "stream",
     "text": [
      "Shape of all features (2969163, 96) \n",
      "\n",
      "Randomly selecting 100000 features \n",
      "\n",
      "Shape after selection (100000, 96)\n"
     ]
    }
   ],
   "source": [
    "print(\"Shape of all features {} \\n\".format(hog.shape))\n",
    "\n",
    "print(\"Randomly selecting 100000 features \\n\")\n",
    "hog = hog.sample(n=100000)\n",
    "\n",
    "print(\"Shape after selection {}\".format(hog.shape))"
   ]
  },
  {
   "cell_type": "code",
   "execution_count": 42,
   "metadata": {},
   "outputs": [
    {
     "name": "stdout",
     "output_type": "stream",
     "text": [
      "creating HOG codebook\n",
      "Shape of codebook (256, 96) \n",
      "\n",
      "saving hog codebook\n"
     ]
    }
   ],
   "source": [
    "print(\"creating HOG codebook\")\n",
    "\n",
    "k=256\n",
    "hog_codebook,variance=kmeans(hog,k)\n",
    "\n",
    "print(\"Shape of codebook {} \\n\".format(pd.DataFrame(hog_codebook).shape))\n",
    "\n",
    "print(\"saving hog codebook\")\n",
    "pd.DataFrame(hog_codebook).to_csv('hog_codebook.csv')"
   ]
  },
  {
   "cell_type": "markdown",
   "metadata": {},
   "source": [
    "## MBHX Codebook"
   ]
  },
  {
   "cell_type": "code",
   "execution_count": 43,
   "metadata": {},
   "outputs": [],
   "source": [
    "mbhx = pd.read_csv('mbhx_features_training.csv')\n",
    "mbhx = mbhx.drop(mbhx.columns[0],axis=1)"
   ]
  },
  {
   "cell_type": "code",
   "execution_count": 44,
   "metadata": {},
   "outputs": [
    {
     "name": "stdout",
     "output_type": "stream",
     "text": [
      "Shape of all features (2969163, 96) \n",
      "\n",
      "Randomly selecting 100000 features \n",
      "\n",
      "Shape after selection (100000, 96)\n"
     ]
    }
   ],
   "source": [
    "print(\"Shape of all features {} \\n\".format(mbhx.shape))\n",
    "\n",
    "print(\"Randomly selecting 100000 features \\n\")\n",
    "mbhx = mbhx.sample(n=100000)\n",
    "\n",
    "print(\"Shape after selection {}\".format(mbhx.shape))"
   ]
  },
  {
   "cell_type": "code",
   "execution_count": 46,
   "metadata": {},
   "outputs": [
    {
     "name": "stdout",
     "output_type": "stream",
     "text": [
      "creating MBHX codebook\n",
      "Shape of codebook (256, 96) \n",
      "\n",
      "saving mbhx codebook\n"
     ]
    }
   ],
   "source": [
    "print(\"creating MBHX codebook\")\n",
    "\n",
    "k=256\n",
    "mbhx_codebook,variance=kmeans(mbhx,k)\n",
    "\n",
    "print(\"Shape of codebook {} \\n\".format(pd.DataFrame(mbhx_codebook).shape))\n",
    "\n",
    "print(\"saving mbhx codebook\")\n",
    "pd.DataFrame(mbhx_codebook).to_csv('mbhx_codebook.csv')"
   ]
  },
  {
   "cell_type": "markdown",
   "metadata": {},
   "source": [
    "## MBHY Codebook"
   ]
  },
  {
   "cell_type": "code",
   "execution_count": 47,
   "metadata": {},
   "outputs": [],
   "source": [
    "mbhy = pd.read_csv('mbhy_features_training.csv')\n",
    "mbhy = mbhy.drop(mbhy.columns[0],axis=1)"
   ]
  },
  {
   "cell_type": "code",
   "execution_count": 48,
   "metadata": {},
   "outputs": [
    {
     "name": "stdout",
     "output_type": "stream",
     "text": [
      "Shape of all features (2969163, 96) \n",
      "\n",
      "Randomly selecting 100000 features \n",
      "\n",
      "Shape after selection (100000, 96)\n"
     ]
    }
   ],
   "source": [
    "print(\"Shape of all features {} \\n\".format(mbhy.shape))\n",
    "\n",
    "print(\"Randomly selecting 100000 features \\n\")\n",
    "mbhy = mbhy.sample(n=100000)\n",
    "\n",
    "print(\"Shape after selection {}\".format(mbhy.shape))"
   ]
  },
  {
   "cell_type": "code",
   "execution_count": 49,
   "metadata": {},
   "outputs": [
    {
     "name": "stdout",
     "output_type": "stream",
     "text": [
      "creating MBHY codebook\n",
      "Shape of codebook (256, 96) \n",
      "\n",
      "saving mbhy codebook\n"
     ]
    }
   ],
   "source": [
    "print(\"creating MBHY codebook\")\n",
    "\n",
    "k=256\n",
    "mbhy_codebook,variance=kmeans(mbhy,k)\n",
    "\n",
    "print(\"Shape of codebook {} \\n\".format(pd.DataFrame(mbhy_codebook).shape))\n",
    "\n",
    "print(\"saving mbhy codebook\")\n",
    "pd.DataFrame(mbhy_codebook).to_csv('mbhy_codebook.csv')"
   ]
  },
  {
   "cell_type": "code",
   "execution_count": null,
   "metadata": {},
   "outputs": [],
   "source": []
  }
 ],
 "metadata": {
  "kernelspec": {
   "display_name": "Python 3",
   "language": "python",
   "name": "python3"
  },
  "language_info": {
   "codemirror_mode": {
    "name": "ipython",
    "version": 3
   },
   "file_extension": ".py",
   "mimetype": "text/x-python",
   "name": "python",
   "nbconvert_exporter": "python",
   "pygments_lexer": "ipython3",
   "version": "3.8.3"
  }
 },
 "nbformat": 4,
 "nbformat_minor": 4
}
